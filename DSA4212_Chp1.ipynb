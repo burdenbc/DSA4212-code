{
  "nbformat": 4,
  "nbformat_minor": 0,
  "metadata": {
    "colab": {
      "provenance": []
    },
    "kernelspec": {
      "name": "python3",
      "display_name": "Python 3"
    },
    "language_info": {
      "name": "python"
    },
    "accelerator": "GPU",
    "gpuClass": "standard"
  },
  "cells": [
    {
      "cell_type": "code",
      "execution_count": null,
      "metadata": {
        "id": "1f-Qq9r9uoQM"
      },
      "outputs": [],
      "source": [
        "import numpy as np\n",
        "import matplotlib.pyplot as plt\n",
        "import random\n",
        "\n",
        "random.seed(4212)"
      ]
    },
    {
      "cell_type": "markdown",
      "source": [
        "Chapter 1 Slide 10 Exercise\n"
      ],
      "metadata": {
        "id": "sP0_Zc1Uu2NJ"
      }
    },
    {
      "cell_type": "markdown",
      "source": [
        "A useful write-up on covariances\n",
        "https://towardsdatascience.com/5-things-you-should-know-about-covariance-26b12a0516f1#:~:text=It%20is%20a%20symmetric%20matrix,data%20spread%20among%20two%20dimensions."
      ],
      "metadata": {
        "id": "unlK8e3QwOP5"
      }
    },
    {
      "cell_type": "code",
      "source": [
        "N = 500\n",
        "d = 300\n",
        "###### Q1\n",
        "\n",
        "X = np.random.normal(0, 1, size=(N,d))\n",
        "print(\"X.shape:\", X.shape)\n",
        "\n",
        "# must transpose the origin matrix before np.cov()\n",
        "S = np.cov(X.T)\n",
        "print(\"S.shape:\", S.shape)\n",
        "\n",
        "plt.imshow(S)\n",
        "plt.colorbar()\n",
        "\n",
        "##### Q2\n",
        "\n",
        "eigenvalues, eigenvectors = np.linalg.eigh(S)\n",
        "\n",
        "print(eigenvalues >= 0)\n",
        "print(\"A covariance matrix is positive semidefinite hence its eigenvalues are nonnegative\")\n",
        "\n",
        "##### Q3\n",
        "\n",
        "plt.hist(eigenvalues, bins=50)\n",
        "plt.show()\n",
        "\n",
        "##### Q4\n",
        "Y = np.random.normal(0, 1, size=(1000000,300))\n",
        "Sy = np.cov(Y.T)\n",
        "eigenvalues_y, eigenvectors_y = np.linalg.eigh(Sy)\n",
        "plt.hist(eigenvalues_y, bins=100)\n",
        "plt.show()"
      ],
      "metadata": {
        "id": "vgHPN9EKu1Un"
      },
      "execution_count": null,
      "outputs": []
    },
    {
      "cell_type": "markdown",
      "source": [
        "Chapter 1 Slide 11 Exercise\n"
      ],
      "metadata": {
        "id": "AeDZs0220kZQ"
      }
    },
    {
      "cell_type": "code",
      "source": [
        "##### Q1\n",
        "# Prove that M is symmetric\n",
        "\n",
        "A = np.random.normal(0, 1, size=(2000,2000))\n",
        "M = 0.5 * np.add(A, A.T)\n",
        "print(M == M.T)\n",
        "# Save A and see how much disk space is taken\n",
        "\n",
        "##### Q2\n",
        "\n",
        "eigenvalues_M, eigenvectos_M = np.linalg.eigh(M)\n",
        "plt.hist(eigenvalues_M, bins=100)\n",
        "plt.title(\"Distribution of the eigenvalues\")\n",
        "plt.show()"
      ],
      "metadata": {
        "colab": {
          "base_uri": "https://localhost:8080/",
          "height": 410
        },
        "id": "MuW6orRh0j4S",
        "outputId": "8014ef7a-831a-4c0c-e2d4-1f767f274e8e"
      },
      "execution_count": null,
      "outputs": [
        {
          "output_type": "stream",
          "name": "stdout",
          "text": [
            "[[ True  True  True ...  True  True  True]\n",
            " [ True  True  True ...  True  True  True]\n",
            " [ True  True  True ...  True  True  True]\n",
            " ...\n",
            " [ True  True  True ...  True  True  True]\n",
            " [ True  True  True ...  True  True  True]\n",
            " [ True  True  True ...  True  True  True]]\n"
          ]
        },
        {
          "output_type": "display_data",
          "data": {
            "text/plain": [
              "<Figure size 432x288 with 1 Axes>"
            ],
            "image/png": "[encoded data removed]"
          },
          "metadata": {
            "needs_background": "light"
          }
        }
      ]
    },
    {
      "cell_type": "markdown",
      "source": [
        "Chapter 1 Slide 16 Exercise"
      ],
      "metadata": {
        "id": "zrr-akwAi4TA"
      }
    },
    {
      "cell_type": "code",
      "source": [
        "M = np.array([[1., -1.], [-1., 1.]])\n",
        "eigenvalues, _ = np.linalg.eigh(M)\n",
        "print(eigenvalues)\n",
        "# M is p.s.d but not p.d because some of the eigenvalues are zero"
      ],
      "metadata": {
        "colab": {
          "base_uri": "https://localhost:8080/"
        },
        "id": "64bPbpypi6T5",
        "outputId": "4590b615-f83a-42a4-d784-c7c5a7bd49b4"
      },
      "execution_count": null,
      "outputs": [
        {
          "output_type": "stream",
          "name": "stdout",
          "text": [
            "[0. 2.]\n"
          ]
        }
      ]
    },
    {
      "cell_type": "markdown",
      "source": [
        "Chapter 1 Slide 17 Exercise"
      ],
      "metadata": {
        "id": "wJrG2rp_W-mJ"
      }
    },
    {
      "cell_type": "code",
      "source": [
        "##### Q2 \n",
        "import time\n",
        "\n",
        "d = 50\n",
        "A = np.random.normal(0, 1, size=(d,d))\n",
        "\n",
        "start = time.time()\n",
        "A_inv = np.linalg.inv(A)\n",
        "end = time.time()\n",
        "time_taken = end - start\n",
        "print(time_taken)"
      ],
      "metadata": {
        "colab": {
          "base_uri": "https://localhost:8080/"
        },
        "id": "Tru3FBB9XC9F",
        "outputId": "b7467b13-d679-438c-e03c-0f375d6dd8d2"
      },
      "execution_count": null,
      "outputs": [
        {
          "output_type": "stream",
          "name": "stdout",
          "text": [
            "0.003240346908569336\n"
          ]
        }
      ]
    },
    {
      "cell_type": "code",
      "source": [
        "dim_list = np.arange(50, 2000, 100)\n",
        "time_list = []\n",
        "\n",
        "for d in dim_list:\n",
        "  A = np.random.normal(0, 1, size=(d,d))\n",
        "  start = time.time()\n",
        "  A_inv = np.linalg.inv(A)\n",
        "  end = time.time()\n",
        "  time_taken = end - start\n",
        "  time_list.append(time_taken)\n",
        "print(time_list)"
      ],
      "metadata": {
        "colab": {
          "base_uri": "https://localhost:8080/"
        },
        "id": "jPq2UVwhYcoQ",
        "outputId": "5efbaebb-8ebd-4e32-cb85-8891f0456805"
      },
      "execution_count": null,
      "outputs": [
        {
          "output_type": "stream",
          "name": "stdout",
          "text": [
            "[0.0005841255187988281, 0.0014662742614746094, 0.008324623107910156, 0.013073205947875977, 0.018733978271484375, 0.03055739402770996, 0.043882131576538086, 0.06603765487670898, 0.08796310424804688, 0.12086176872253418, 0.16161036491394043, 0.20097661018371582, 0.21755719184875488, 0.286602258682251, 0.3512752056121826, 0.42046427726745605, 0.5022907257080078, 0.6222648620605469, 0.6758866310119629, 0.7929935455322266]\n"
          ]
        }
      ]
    },
    {
      "cell_type": "code",
      "source": [
        "plt.plot(dim_list, time_list)\n",
        "plt.xlabel('Dimensions')\n",
        "plt.ylabel('Time')"
      ],
      "metadata": {
        "colab": {
          "base_uri": "https://localhost:8080/",
          "height": 297
        },
        "id": "9rYI2MgMZKWS",
        "outputId": "fd6c2702-476a-4216-c607-8265467fce50"
      },
      "execution_count": null,
      "outputs": [
        {
          "output_type": "execute_result",
          "data": {
            "text/plain": [
              "Text(0, 0.5, 'Time')"
            ]
          },
          "metadata": {},
          "execution_count": 11
        },
        {
          "output_type": "display_data",
          "data": {
            "text/plain": [
              "<Figure size 432x288 with 1 Axes>"
            ],
            "image/png": "[encoded data removed]"
          },
          "metadata": {
            "needs_background": "light"
          }
        }
      ]
    },
    {
      "cell_type": "code",
      "source": [
        "# time ~ d^power\n",
        "# log(time) ~ power * log(d)\n",
        "# Estimate the slope\n",
        "\n",
        "plt.plot(dim_list, time_list)\n",
        "plt.xlabel('Dimensions')\n",
        "plt.ylabel('Time')\n",
        "\n",
        "plt.xscale('log')\n",
        "plt.yscale('log')\n",
        "plt.grid()\n",
        "\n",
        "# Current best method to invert a matrix has time complexity O(d^2.37). Inverting a matrix should generally be avoided\n",
        "\"\"\"\n",
        "For example, to compute Ax = b，\n",
        "\n",
        "Bad way to compute:\n",
        "A_inv = np.linalg.inv(A)\n",
        "x = A_inv @ b\n",
        "\n",
        "Good way:\n",
        "x = np.linalg.solve(A, b)\n",
        "\"\"\""
      ],
      "metadata": {
        "colab": {
          "base_uri": "https://localhost:8080/",
          "height": 304
        },
        "id": "QyxGkP3nZmD7",
        "outputId": "0ad769c5-8b3d-41be-dace-a1185d9a95b6"
      },
      "execution_count": null,
      "outputs": [
        {
          "output_type": "execute_result",
          "data": {
            "text/plain": [
              "'\\nFor example, to compute Ax = b，\\n\\nBad way to compute:\\nA_inv = np.linalg.inv(A)\\nx = A_inv @ b\\n\\nGood way:\\nx = np.linalg.solve(A, b)\\n'"
            ],
            "application/vnd.google.colaboratory.intrinsic+json": {
              "type": "string"
            }
          },
          "metadata": {},
          "execution_count": 13
        },
        {
          "output_type": "display_data",
          "data": {
            "text/plain": [
              "<Figure size 432x288 with 1 Axes>"
            ],
            "image/png": "[encoded data removed]"
          },
          "metadata": {
            "needs_background": "light"
          }
        }
      ]
    },
    {
      "cell_type": "markdown",
      "source": [
        "Jax"
      ],
      "metadata": {
        "id": "4zmEr8YtECrR"
      }
    },
    {
      "cell_type": "code",
      "source": [
        "import numpy as np\n",
        "import jax\n",
        "import jax.numpy as jnp\n",
        "\n",
        "print(jax.__version__)"
      ],
      "metadata": {
        "colab": {
          "base_uri": "https://localhost:8080/"
        },
        "id": "cM6ofNe3ED3N",
        "outputId": "2932133b-4cd1-4611-9b3f-1d34c01c7e8d"
      },
      "execution_count": 1,
      "outputs": [
        {
          "output_type": "stream",
          "name": "stdout",
          "text": [
            "0.3.25\n"
          ]
        }
      ]
    },
    {
      "cell_type": "code",
      "source": [
        "@jax.jit\n",
        "\n",
        "def f(x):\n",
        "  return jnp.mean(x**2)\n",
        "\n",
        "x = np.array([1.,2.,3.])\n",
        "print(f(x))"
      ],
      "metadata": {
        "colab": {
          "base_uri": "https://localhost:8080/"
        },
        "id": "P7OfIpssELNS",
        "outputId": "565cbf23-0a46-4df6-98ad-112360693d34"
      },
      "execution_count": 2,
      "outputs": [
        {
          "output_type": "stream",
          "name": "stdout",
          "text": [
            "4.666667\n"
          ]
        }
      ]
    },
    {
      "cell_type": "code",
      "source": [
        "# (1/d)*(x_1**2 + x_2**2 + ... +x_d**2)\n",
        "# grad = [(2/d)*x_1, (2/d)*x_2, ..., (2/d)*x_d]\n",
        "\n",
        "f_grad = jax.grad(f)\n",
        "f_hessian = jax.hessian(f)\n",
        "\n",
        "print(f_grad(x))\n",
        "print(f_hessian(x))"
      ],
      "metadata": {
        "colab": {
          "base_uri": "https://localhost:8080/"
        },
        "id": "bmvsBD52Epoc",
        "outputId": "f3c94be7-252e-4611-e58d-742fd007857d"
      },
      "execution_count": 5,
      "outputs": [
        {
          "output_type": "stream",
          "name": "stdout",
          "text": [
            "[0.6666667 1.3333334 2.       ]\n",
            "[[0.6666667 0.        0.       ]\n",
            " [0.        0.6666667 0.       ]\n",
            " [0.        0.        0.6666667]]\n"
          ]
        }
      ]
    },
    {
      "cell_type": "code",
      "source": [
        "def g(x,y,z):\n",
        "  return jnp.mean(x**2+y**2+z**2)\n",
        "\n",
        "# to compute the gradient of the function g wrt y\n",
        "# cannot do jax.grad(g)\n",
        "g_grad_x = jax.grad(g)\n",
        "g_grad_y = jax.grad(g, argnums=1)\n",
        "g_grad_y = jax.grad(g, argnums=2)\n",
        "\n",
        "def h(param):\n",
        "  # param = [x, y, z]\n",
        "  x,y,z = param\n",
        "  return jnp.mean(x**2+y**2+z**2)\n",
        "\n",
        "param = [np.array([1.,2.]), np.array([0.,2.]), np.array([4.,3.])]\n",
        "h_grad = jax.grad(h)\n",
        "\n",
        "h_grad(param)"
      ],
      "metadata": {
        "colab": {
          "base_uri": "https://localhost:8080/"
        },
        "id": "wOANbFZiFO5P",
        "outputId": "9771feee-1d2d-4df3-b22c-d5bb77e1b7dd"
      },
      "execution_count": 7,
      "outputs": [
        {
          "output_type": "execute_result",
          "data": {
            "text/plain": [
              "[DeviceArray([1., 2.], dtype=float32),\n",
              " DeviceArray([0., 2.], dtype=float32),\n",
              " DeviceArray([4., 3.], dtype=float32)]"
            ]
          },
          "metadata": {},
          "execution_count": 7
        }
      ]
    }
  ]
}